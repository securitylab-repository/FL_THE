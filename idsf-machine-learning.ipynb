{
 "cells": [
  {
   "attachments": {},
   "cell_type": "markdown",
   "metadata": {},
   "source": [
    "## IDSF Machine learning using TON_IoT dataset\n",
    "Import data set from csv file"
   ]
  },
  {
   "cell_type": "code",
   "execution_count": 37,
   "metadata": {},
   "outputs": [
    {
     "data": {
      "text/html": [
       "<div>\n",
       "<style scoped>\n",
       "    .dataframe tbody tr th:only-of-type {\n",
       "        vertical-align: middle;\n",
       "    }\n",
       "\n",
       "    .dataframe tbody tr th {\n",
       "        vertical-align: top;\n",
       "    }\n",
       "\n",
       "    .dataframe thead th {\n",
       "        text-align: right;\n",
       "    }\n",
       "</style>\n",
       "<table border=\"1\" class=\"dataframe\">\n",
       "  <thead>\n",
       "    <tr style=\"text-align: right;\">\n",
       "      <th></th>\n",
       "      <th>ts</th>\n",
       "      <th>src_ip</th>\n",
       "      <th>src_port</th>\n",
       "      <th>dst_ip</th>\n",
       "      <th>dst_port</th>\n",
       "      <th>proto</th>\n",
       "      <th>service</th>\n",
       "      <th>duration</th>\n",
       "      <th>src_bytes</th>\n",
       "      <th>dst_bytes</th>\n",
       "      <th>...</th>\n",
       "      <th>http_response_body_len</th>\n",
       "      <th>http_status_code</th>\n",
       "      <th>http_user_agent</th>\n",
       "      <th>http_orig_mime_types</th>\n",
       "      <th>http_resp_mime_types</th>\n",
       "      <th>weird_name</th>\n",
       "      <th>weird_addl</th>\n",
       "      <th>weird_notice</th>\n",
       "      <th>label</th>\n",
       "      <th>type</th>\n",
       "    </tr>\n",
       "  </thead>\n",
       "  <tbody>\n",
       "    <tr>\n",
       "      <th>0</th>\n",
       "      <td>1554198358</td>\n",
       "      <td>3.122.49.24</td>\n",
       "      <td>1883</td>\n",
       "      <td>192.168.1.152</td>\n",
       "      <td>52976</td>\n",
       "      <td>tcp</td>\n",
       "      <td>NaN</td>\n",
       "      <td>80549.530260</td>\n",
       "      <td>1762852</td>\n",
       "      <td>41933215</td>\n",
       "      <td>...</td>\n",
       "      <td>0</td>\n",
       "      <td>0</td>\n",
       "      <td>NaN</td>\n",
       "      <td>NaN</td>\n",
       "      <td>NaN</td>\n",
       "      <td>bad_TCP_checksum</td>\n",
       "      <td>NaN</td>\n",
       "      <td>F</td>\n",
       "      <td>0</td>\n",
       "      <td>normal</td>\n",
       "    </tr>\n",
       "    <tr>\n",
       "      <th>1</th>\n",
       "      <td>1554198358</td>\n",
       "      <td>192.168.1.79</td>\n",
       "      <td>47260</td>\n",
       "      <td>192.168.1.255</td>\n",
       "      <td>15600</td>\n",
       "      <td>udp</td>\n",
       "      <td>NaN</td>\n",
       "      <td>0.000000</td>\n",
       "      <td>0</td>\n",
       "      <td>0</td>\n",
       "      <td>...</td>\n",
       "      <td>0</td>\n",
       "      <td>0</td>\n",
       "      <td>NaN</td>\n",
       "      <td>NaN</td>\n",
       "      <td>NaN</td>\n",
       "      <td>NaN</td>\n",
       "      <td>NaN</td>\n",
       "      <td>NaN</td>\n",
       "      <td>0</td>\n",
       "      <td>normal</td>\n",
       "    </tr>\n",
       "    <tr>\n",
       "      <th>2</th>\n",
       "      <td>1554198359</td>\n",
       "      <td>192.168.1.152</td>\n",
       "      <td>1880</td>\n",
       "      <td>192.168.1.152</td>\n",
       "      <td>51782</td>\n",
       "      <td>tcp</td>\n",
       "      <td>NaN</td>\n",
       "      <td>0.000000</td>\n",
       "      <td>0</td>\n",
       "      <td>0</td>\n",
       "      <td>...</td>\n",
       "      <td>0</td>\n",
       "      <td>0</td>\n",
       "      <td>NaN</td>\n",
       "      <td>NaN</td>\n",
       "      <td>NaN</td>\n",
       "      <td>bad_TCP_checksum</td>\n",
       "      <td>NaN</td>\n",
       "      <td>F</td>\n",
       "      <td>0</td>\n",
       "      <td>normal</td>\n",
       "    </tr>\n",
       "    <tr>\n",
       "      <th>3</th>\n",
       "      <td>1554198359</td>\n",
       "      <td>192.168.1.152</td>\n",
       "      <td>34296</td>\n",
       "      <td>192.168.1.152</td>\n",
       "      <td>10502</td>\n",
       "      <td>tcp</td>\n",
       "      <td>NaN</td>\n",
       "      <td>0.000000</td>\n",
       "      <td>0</td>\n",
       "      <td>0</td>\n",
       "      <td>...</td>\n",
       "      <td>0</td>\n",
       "      <td>0</td>\n",
       "      <td>NaN</td>\n",
       "      <td>NaN</td>\n",
       "      <td>NaN</td>\n",
       "      <td>NaN</td>\n",
       "      <td>NaN</td>\n",
       "      <td>NaN</td>\n",
       "      <td>0</td>\n",
       "      <td>normal</td>\n",
       "    </tr>\n",
       "    <tr>\n",
       "      <th>4</th>\n",
       "      <td>1554198362</td>\n",
       "      <td>192.168.1.152</td>\n",
       "      <td>46608</td>\n",
       "      <td>192.168.1.190</td>\n",
       "      <td>53</td>\n",
       "      <td>udp</td>\n",
       "      <td>dns</td>\n",
       "      <td>0.000549</td>\n",
       "      <td>0</td>\n",
       "      <td>298</td>\n",
       "      <td>...</td>\n",
       "      <td>0</td>\n",
       "      <td>0</td>\n",
       "      <td>NaN</td>\n",
       "      <td>NaN</td>\n",
       "      <td>NaN</td>\n",
       "      <td>bad_UDP_checksum</td>\n",
       "      <td>NaN</td>\n",
       "      <td>F</td>\n",
       "      <td>0</td>\n",
       "      <td>normal</td>\n",
       "    </tr>\n",
       "  </tbody>\n",
       "</table>\n",
       "<p>5 rows × 45 columns</p>\n",
       "</div>"
      ],
      "text/plain": [
       "           ts         src_ip  src_port         dst_ip  dst_port proto service  \\\n",
       "0  1554198358    3.122.49.24      1883  192.168.1.152     52976   tcp     NaN   \n",
       "1  1554198358   192.168.1.79     47260  192.168.1.255     15600   udp     NaN   \n",
       "2  1554198359  192.168.1.152      1880  192.168.1.152     51782   tcp     NaN   \n",
       "3  1554198359  192.168.1.152     34296  192.168.1.152     10502   tcp     NaN   \n",
       "4  1554198362  192.168.1.152     46608  192.168.1.190        53   udp     dns   \n",
       "\n",
       "       duration  src_bytes  dst_bytes  ... http_response_body_len  \\\n",
       "0  80549.530260    1762852   41933215  ...                      0   \n",
       "1      0.000000          0          0  ...                      0   \n",
       "2      0.000000          0          0  ...                      0   \n",
       "3      0.000000          0          0  ...                      0   \n",
       "4      0.000549          0        298  ...                      0   \n",
       "\n",
       "   http_status_code  http_user_agent  http_orig_mime_types  \\\n",
       "0                 0              NaN                   NaN   \n",
       "1                 0              NaN                   NaN   \n",
       "2                 0              NaN                   NaN   \n",
       "3                 0              NaN                   NaN   \n",
       "4                 0              NaN                   NaN   \n",
       "\n",
       "   http_resp_mime_types        weird_name weird_addl  weird_notice  label  \\\n",
       "0                   NaN  bad_TCP_checksum        NaN             F      0   \n",
       "1                   NaN               NaN        NaN           NaN      0   \n",
       "2                   NaN  bad_TCP_checksum        NaN             F      0   \n",
       "3                   NaN               NaN        NaN           NaN      0   \n",
       "4                   NaN  bad_UDP_checksum        NaN             F      0   \n",
       "\n",
       "     type  \n",
       "0  normal  \n",
       "1  normal  \n",
       "2  normal  \n",
       "3  normal  \n",
       "4  normal  \n",
       "\n",
       "[5 rows x 45 columns]"
      ]
     },
     "execution_count": 37,
     "metadata": {},
     "output_type": "execute_result"
    }
   ],
   "source": [
    "import pandas as pd\n",
    "import numpy as np\n",
    "import matplotlib.pyplot as plt\n",
    "from sklearn import metrics\n",
    "%matplotlib inline\n",
    "\n",
    "filename='Train_Test_Network.csv'\n",
    "df = pd.read_csv(filename,na_values='-',low_memory=False)\n",
    "df.head(5)\n"
   ]
  },
  {
   "cell_type": "code",
   "execution_count": 38,
   "metadata": {},
   "outputs": [
    {
     "data": {
      "text/plain": [
       "(461043, 45)"
      ]
     },
     "execution_count": 38,
     "metadata": {},
     "output_type": "execute_result"
    }
   ],
   "source": [
    "df.shape"
   ]
  },
  {
   "attachments": {},
   "cell_type": "markdown",
   "metadata": {},
   "source": [
    "## Explore dataset:\n",
    "* list of feature\n",
    "* number of unique value in each feature\n",
    "\n",
    "TODO: conclude which feature would be use"
   ]
  },
  {
   "cell_type": "code",
   "execution_count": 39,
   "metadata": {},
   "outputs": [
    {
     "name": "stdout",
     "output_type": "stream",
     "text": [
      "['ts', 'src_ip', 'src_port', 'dst_ip', 'dst_port', 'proto', 'service', 'duration', 'src_bytes', 'dst_bytes', 'conn_state', 'missed_bytes', 'src_pkts', 'src_ip_bytes', 'dst_pkts', 'dst_ip_bytes', 'dns_query', 'dns_qclass', 'dns_qtype', 'dns_rcode', 'dns_AA', 'dns_RD', 'dns_RA', 'dns_rejected', 'ssl_version', 'ssl_cipher', 'ssl_resumed', 'ssl_established', 'ssl_subject', 'ssl_issuer', 'http_trans_depth', 'http_method', 'http_uri', 'http_version', 'http_request_body_len', 'http_response_body_len', 'http_status_code', 'http_user_agent', 'http_orig_mime_types', 'http_resp_mime_types', 'weird_name', 'weird_addl', 'weird_notice', 'label', 'type']\n",
      "\n",
      "0   ts  : \n",
      "1556423502    1194\n",
      "1556340865     976\n",
      "1556423501     953\n",
      "1556423638     934\n",
      "1556340867     776\n",
      "              ... \n",
      "1554283049       1\n",
      "1554283045       1\n",
      "1554283044       1\n",
      "1554283043       1\n",
      "1556436603       1\n",
      "Name: ts, Length: 115666, dtype: int64\n",
      "\n",
      "1   src_ip  : \n",
      "192.168.1.190     77033\n",
      "192.168.1.152     67784\n",
      "192.168.1.30      61637\n",
      "192.168.1.79      41098\n",
      "192.168.1.195     36089\n",
      "                  ...  \n",
      "255.42.60.52          1\n",
      "243.111.49.216        1\n",
      "10.3.191.169          1\n",
      "74.166.95.98          1\n",
      "118.164.23.26         1\n",
      "Name: src_ip, Length: 11536, dtype: int64\n",
      "\n",
      "2   src_port  : \n",
      "1880     18631\n",
      "43530    17313\n",
      "42100    16688\n",
      "34296    15967\n",
      "53972     8354\n",
      "         ...  \n",
      "2632         1\n",
      "31772        1\n",
      "4322         1\n",
      "6429         1\n",
      "44197        1\n",
      "Name: src_port, Length: 53671, dtype: int64\n",
      "\n",
      "3   dst_ip  : \n",
      "192.168.1.190    80102\n",
      "192.168.1.152    60862\n",
      "192.168.1.255    24295\n",
      "192.168.1.195    23177\n",
      "192.168.1.193    22902\n",
      "                 ...  \n",
      "200.62.191.10        1\n",
      "192.195.66.12        1\n",
      "85.90.64.164         1\n",
      "202.3.54.32          1\n",
      "104.98.29.100        1\n",
      "Name: dst_ip, Length: 5268, dtype: int64\n",
      "\n",
      "4   dst_port  : \n",
      "53       107747\n",
      "80        86001\n",
      "15600     34151\n",
      "7878      33984\n",
      "10502     24318\n",
      "          ...  \n",
      "53409         1\n",
      "53425         1\n",
      "53426         1\n",
      "40672         1\n",
      "40670         1\n",
      "Name: dst_port, Length: 2666, dtype: int64\n",
      "\n",
      "5   proto  : \n",
      "tcp     282076\n",
      "udp     173087\n",
      "icmp      5880\n",
      "Name: proto, dtype: int64\n",
      "\n",
      "6   service  : \n",
      "dns           116480\n",
      "http           60720\n",
      "ssl             2070\n",
      "ftp             1065\n",
      "gssapi           184\n",
      "dce_rpc          136\n",
      "smb              108\n",
      "dhcp              46\n",
      "smb;gssapi        18\n",
      "Name: service, dtype: int64\n",
      "\n",
      "7   duration  : \n",
      "0.000000     206021\n",
      "0.000018       1482\n",
      "0.000017       1390\n",
      "0.000004       1349\n",
      "0.000016       1139\n",
      "              ...  \n",
      "60.565782         1\n",
      "60.296862         1\n",
      "60.614134         1\n",
      "60.388352         1\n",
      "22.872314         1\n",
      "Name: duration, Length: 124727, dtype: int64\n",
      "\n",
      "8   src_bytes  : \n",
      "0         293151\n",
      "130        13625\n",
      "48          6620\n",
      "132         5483\n",
      "155         5476\n",
      "           ...  \n",
      "739            1\n",
      "796            1\n",
      "1949           1\n",
      "1971           1\n",
      "101568         1\n",
      "Name: src_bytes, Length: 3056, dtype: int64\n",
      "\n",
      "9   dst_bytes  : \n",
      "0         307529\n",
      "298         8284\n",
      "3440        4915\n",
      "12183       4795\n",
      "1919        4398\n",
      "           ...  \n",
      "1638           1\n",
      "4409           1\n",
      "22586          1\n",
      "2236           1\n",
      "749633         1\n",
      "Name: dst_bytes, Length: 3511, dtype: int64\n",
      "\n",
      "10   conn_state  : \n",
      "SF        123512\n",
      "S0        113495\n",
      "OTH       111842\n",
      "REJ        45036\n",
      "SHR        22053\n",
      "SH         18138\n",
      "S1         13843\n",
      "S3          6642\n",
      "RSTR        2360\n",
      "RSTRH       1724\n",
      "RSTO        1518\n",
      "S2           708\n",
      "RSTOS0       172\n",
      "Name: conn_state, dtype: int64\n",
      "\n",
      "11   missed_bytes  : \n",
      "0       457434\n",
      "1         1218\n",
      "1920       201\n",
      "3441       183\n",
      "2327        77\n",
      "         ...  \n",
      "359          1\n",
      "295          1\n",
      "222          1\n",
      "527          1\n",
      "1440         1\n",
      "Name: missed_bytes, Length: 929, dtype: int64\n",
      "\n",
      "12   src_pkts  : \n",
      "1        216270\n",
      "0        112544\n",
      "2         40133\n",
      "5         38815\n",
      "6         14619\n",
      "          ...  \n",
      "34330         1\n",
      "46162         1\n",
      "2828          1\n",
      "761           1\n",
      "4015          1\n",
      "Name: src_pkts, Length: 414, dtype: int64\n",
      "\n",
      "13   src_ip_bytes  : \n",
      "0         112544\n",
      "63         34677\n",
      "40         28277\n",
      "48         19614\n",
      "44         18513\n",
      "           ...  \n",
      "1731           1\n",
      "12500          1\n",
      "2522           1\n",
      "9218           1\n",
      "108064         1\n",
      "Name: src_ip_bytes, Length: 4549, dtype: int64\n",
      "\n",
      "14   dst_pkts  : \n",
      "0       233281\n",
      "1       129446\n",
      "2        23239\n",
      "5        16992\n",
      "6        13589\n",
      "         ...  \n",
      "201          1\n",
      "307          1\n",
      "2028         1\n",
      "1729         1\n",
      "1923         1\n",
      "Name: dst_pkts, Length: 332, dtype: int64\n",
      "\n",
      "15   dst_ip_bytes  : \n",
      "0         233281\n",
      "40         45570\n",
      "60         10800\n",
      "354         8341\n",
      "12815       4367\n",
      "           ...  \n",
      "5565           1\n",
      "2829           1\n",
      "3855           1\n",
      "3848           1\n",
      "714288         1\n",
      "Name: dst_ip_bytes, Length: 4577, dtype: int64\n",
      "\n",
      "16   dns_query  : \n",
      "a2z3kk2ebqzso7.iot.ap-southeast-2.amazonaws.com    13700\n",
      "arpa.whois-servers.net                              2198\n",
      "_sleep-proxy._udp.local                             2187\n",
      "testphp.vulnweb.com                                 1848\n",
      "desktop-7q9apbo                                     1800\n",
      "                                                   ...  \n",
      "177.180.185.in-addr.arpa                               1\n",
      "215.242.28.19.in-addr.arpa                             1\n",
      "12.197.200.139.in-addr.arpa                            1\n",
      "233.53.171.21.in-addr.arpa                             1\n",
      "loadm.exelator.com                                     1\n",
      "Name: dns_query, Length: 14148, dtype: int64\n",
      "\n",
      "17   dns_qclass  : \n",
      "0        366377\n",
      "1         92700\n",
      "32769      1966\n",
      "Name: dns_qclass, dtype: int64\n",
      "\n",
      "18   dns_qtype  : \n",
      "0      366377\n",
      "1       36080\n",
      "12      21932\n",
      "28      20282\n",
      "43       9061\n",
      "255      5082\n",
      "2        1284\n",
      "48        667\n",
      "32        210\n",
      "33         59\n",
      "6           6\n",
      "16          3\n",
      "Name: dns_qtype, dtype: int64\n",
      "\n",
      "19   dns_rcode  : \n",
      "0    448777\n",
      "3     10510\n",
      "5      1187\n",
      "2       565\n",
      "1         4\n",
      "Name: dns_rcode, dtype: int64\n",
      "\n",
      "20   dns_AA  : \n",
      "F    81279\n",
      "T    14606\n",
      "Name: dns_AA, dtype: int64\n",
      "\n",
      "21   dns_RD  : \n",
      "F    63106\n",
      "T    32779\n",
      "Name: dns_RD, dtype: int64\n",
      "\n",
      "22   dns_RA  : \n",
      "F    85997\n",
      "T     9888\n",
      "Name: dns_RA, dtype: int64\n",
      "\n",
      "23   dns_rejected  : \n",
      "F    89392\n",
      "T     6493\n",
      "Name: dns_rejected, dtype: int64\n",
      "\n",
      "24   ssl_version  : \n",
      "TLSv12    188\n",
      "TLSv13    116\n",
      "TLSv10      2\n",
      "Name: ssl_version, dtype: int64\n",
      "\n",
      "25   ssl_cipher  : \n",
      "TLS_ECDHE_RSA_WITH_AES_128_GCM_SHA256      176\n",
      "TLS_AES_128_GCM_SHA256                     116\n",
      "TLS_ECDHE_RSA_WITH_AES_256_GCM_SHA384       11\n",
      "TLS_ECDHE_RSA_WITH_AES_256_CBC_SHA           2\n",
      "TLS_ECDHE_ECDSA_WITH_AES_128_GCM_SHA256      1\n",
      "Name: ssl_cipher, dtype: int64\n",
      "\n",
      "26   ssl_resumed  : \n",
      "F    605\n",
      "T     86\n",
      "Name: ssl_resumed, dtype: int64\n",
      "\n",
      "27   ssl_established  : \n",
      "F    596\n",
      "T     95\n",
      "Name: ssl_established, dtype: int64\n",
      "\n",
      "28   ssl_subject  : \n",
      "CN=*.wns.windows.com                                                                        4\n",
      "CN=Mr Shepherd;OU=Security Shepherd Project;O=OWASP;L=Dublin;ST=Ireland;C=IE                2\n",
      "CN=settings-win.data.microsoft.com;OU=WSE;O=Microsoft;L=Redmond;ST=WA;C=US                  1\n",
      "CN=sls.update.microsoft.com;OU=DSP;O=Microsoft;L=Redmond;ST=WA;C=US                         1\n",
      "CN=*.events.data.microsoft.com;OU=Microsoft;O=Microsoft Corporation;L=Redmond;ST=WA;C=US    1\n",
      "Name: ssl_subject, dtype: int64\n",
      "\n",
      "29   ssl_issuer  : \n",
      "CN=Microsoft IT TLS CA 5;OU=Microsoft IT;O=Microsoft Corporation;L=Redmond;ST=Washington;C=US    4\n",
      "CN=Microsoft Secure Server CA 2011;O=Microsoft Corporation;L=Redmond;ST=Washington;C=US          2\n",
      "CN=Mr Shepherd;OU=Security Shepherd Project;O=OWASP;L=Dublin;ST=Ireland;C=IE                     2\n",
      "CN=Microsoft Update Secure Server CA 2.1;O=Microsoft Corporation;L=Redmond;ST=Washington;C=US    1\n",
      "Name: ssl_issuer, dtype: int64\n",
      "\n",
      "30   http_trans_depth  : \n",
      "1.0     214\n",
      "2.0      25\n",
      "10.0      1\n",
      "3.0       1\n",
      "4.0       1\n",
      "5.0       1\n",
      "6.0       1\n",
      "7.0       1\n",
      "8.0       1\n",
      "9.0       1\n",
      "Name: http_trans_depth, dtype: int64\n",
      "\n",
      "31   http_method  : \n",
      "GET     215\n",
      "POST     15\n",
      "HEAD      4\n",
      "Name: http_method, dtype: int64\n",
      "\n",
      "32   http_uri  : \n",
      "/no_nonce_string/                                                                                                                                                                         15\n",
      "/dvwa/login.php-r                                                                                                                                                                         13\n",
      "/no_nonce_string/ContentDirectory/scpd.xml                                                                                                                                                12\n",
      "/filestreamingservice/files/1f41d40e-6e49-42f0-a4dc-3d35029e2a5d?P1=1554315773&P2=402&P3=2&P4=D2MtshBIyXICLz+f8ls5Sa4mWcxA1B670oj1WRainhnd91v77n9XO6/xoc4QeEYZdwdKSG+6cFNvkBVYbJdXpw==     9\n",
      "/d/msdownload/update/software/defu/2019/02/updateplatform_23725566d66a26c81fbfaf79701b727f92a650ea.exe                                                                                     9\n",
      "                                                                                                                                                                                          ..\n",
      "/icon_LRG.jpg                                                                                                                                                                              1\n",
      "/msdownload/update/v3/static/trustedr/en/disallowedcertstl.cab?e793f3590addb8f9                                                                                                            1\n",
      "/filestreamingservice/files/846ab63f-c24f-4c71-bc98-6d8fa3f5e5d7/pieceshash                                                                                                                1\n",
      "/filestreamingservice/files/1f41d40e-6e49-42f0-a4dc-3d35029e2a5d/pieceshash                                                                                                                1\n",
      "/webupd8team/java/ubuntu/dists/bionic/InRelease                                                                                                                                            1\n",
      "Name: http_uri, Length: 73, dtype: int64\n",
      "\n",
      "33   http_version  : \n",
      "1.1    242\n",
      "Name: http_version, dtype: int64\n",
      "\n",
      "34   http_request_body_len  : \n",
      "0       461029\n",
      "300          6\n",
      "1242         5\n",
      "2338         1\n",
      "1586         1\n",
      "1272         1\n",
      "Name: http_request_body_len, dtype: int64\n",
      "\n",
      "35   http_response_body_len  : \n",
      "0          460821\n",
      "2              33\n",
      "1806           14\n",
      "941            12\n",
      "1048576        12\n",
      "            ...  \n",
      "7321            1\n",
      "7323            1\n",
      "10269           1\n",
      "10243           1\n",
      "15401           1\n",
      "Name: http_response_body_len, Length: 68, dtype: int64\n",
      "\n",
      "36   http_status_code  : \n",
      "0      460801\n",
      "200       160\n",
      "206        53\n",
      "302        13\n",
      "404        11\n",
      "304         2\n",
      "403         2\n",
      "101         1\n",
      "Name: http_status_code, dtype: int64\n",
      "\n",
      "37   http_user_agent  : \n",
      "Microsoft-Delivery-Optimization/10.0                                                                                                 57\n",
      "Microsoft-Windows/10.0 UPnP/1.0                                                                                                      32\n",
      "Ruby                                                                                                                                 31\n",
      "User-Agent: Microsoft-DLNA DLNADOC/1.50                                                                                              19\n",
      "DAFUPnP                                                                                                                              19\n",
      "Windows-Update-Agent/10.0.10011.16384 Client-Protocol/1.91                                                                           11\n",
      "MICROSOFT_DEVICE_METADATA_RETRIEVAL_CLIENT                                                                                            9\n",
      "Microsoft NCSI                                                                                                                        8\n",
      "Microsoft-Windows/10.0 UPnP/1.0 Microsoft-DLNA DLNADOC/1.50                                                                           8\n",
      "Mozilla/5.0 (X11; Ubuntu; Linux x86_64; rv:66.0) Gecko/20100101 Firefox/66.0                                                          4\n",
      "Debian APT-HTTP/1.3 (1.7.4)                                                                                                           4\n",
      "Microsoft-CryptoAPI/10.0                                                                                                              4\n",
      "Microsoft-WNS/10.0                                                                                                                    3\n",
      "sqlmap/1.2#stable (http://sqlmap.org)                                                                                                 2\n",
      "hacking                                                                                                                               2\n",
      "Microsoft BITS/7.8                                                                                                                    2\n",
      "Mozilla/5.0 (X11; U; Linux i686; de-DE; rv:1.6) Gecko/20040207 Firefox/0.8                                                            1\n",
      "Mozilla/4.08 [en] (WinNT; I ;Nav)                                                                                                     1\n",
      "Mozilla/1.22 (compatible; MSIE 10.0; Windows 3.1)                                                                                     1\n",
      "Mozilla/5.0 (Windows NT 6.1; rv:21.0) Gecko/20130401 Firefox/21.0                                                                     1\n",
      "Mozilla/5.0 (Windows NT 6.3; rv:36.0) Gecko/20100101 Firefox/36.0                                                                     1\n",
      "Mozilla/5.0 (Macintosh; Intel Mac OS X 10_12_0) AppleWebKit/537.36 (KHTML; like Gecko) Chrome/53.0.2785.143 Safari/537.36             1\n",
      "DataCha0s/2.0                                                                                                                         1\n",
      "Mozilla/5.0 (Windows NT 6.3; WOW64) AppleWebKit/537.36 (KHTML; like Gecko) Chrome/53.0.2785.143 Safari/537.36                         1\n",
      "Comos/0.9_(robot@xyleme.com)                                                                                                          1\n",
      "DonutP; Windows98SE                                                                                                                   1\n",
      "Mozilla/5.0 (compatible; MSIE 10.0; Windows NT 6.1; Trident/4.0; InfoPath.2; SV1; .NET CLR 2.0.50727; WOW64)                          1\n",
      "Mozilla/5.0 (X11; Linux x86_64) AppleWebKit/534.30 (KHTML; like Gecko) Version/4.0 Oupeng/10.2.1.86910 Safari/534.30                  1\n",
      "Mozilla/5.0 (SMART-TV; Linux; Tizen 2.3) AppleWebkit/538.1 (KHTML; like Gecko) SamsungBrowser/1.0 Safari/538.1                        1\n",
      "Mozilla/5.0 (Windows NT 6.1; WOW64; rv:49.0) Gecko/20100101 Firefox/49.0                                                              1\n",
      "Mozilla/5.0 (Windows NT 6.1; Win64; x64; rv:5.0) Whistler/20110021 myibrow/5.0.0.0                                                    1\n",
      "Mozilla/5.0 (iPhone; U; CPU iOS 2_0 like Mac OS X; en-us)                                                                             1\n",
      "Mozilla/5.0 (Macintosh; Intel Mac OS X 10.11; rv:49.0) Gecko/20100101 Firefox/49.0                                                    1\n",
      "Mozilla/5.0 (Windows NT 10.0; Win64; x64) AppleWebKit/537.36 (KHTML; like Gecko) Chrome/64.0.3282.140 Safari/537.36 Edge/18.17763     1\n",
      "Debian APT-HTTP/1.3 (1.6.6)                                                                                                           1\n",
      "Name: http_user_agent, dtype: int64\n",
      "\n",
      "38   http_orig_mime_types  : \n",
      "application/xml         8\n",
      "application/soap+xml    6\n",
      "Name: http_orig_mime_types, dtype: int64\n",
      "\n",
      "39   http_resp_mime_types  : \n",
      "application/xml                      63\n",
      "text/html                            41\n",
      "image/png                            15\n",
      "application/vnd.ms-cab-compressed    13\n",
      "text/plain                           11\n",
      "application/ocsp-response             8\n",
      "text/json                             4\n",
      "image/jpeg                            4\n",
      "application/x-debian-package          1\n",
      "Name: http_resp_mime_types, dtype: int64\n",
      "\n",
      "40   weird_name  : \n",
      "DNS_RR_unknown_type                 753\n",
      "active_connection_reuse             275\n",
      "data_before_established             109\n",
      "bad_UDP_checksum                     68\n",
      "bad_TCP_checksum                     52\n",
      "connection_originator_SYN_ack        20\n",
      "above_hole_data_without_any_acks      6\n",
      "inappropriate_FIN                     3\n",
      "dnp3_corrupt_header_checksum          3\n",
      "possible_split_routing                3\n",
      "TCP_ack_underflow_or_misorder         2\n",
      "Name: weird_name, dtype: int64\n",
      "\n",
      "41   weird_addl  : \n",
      "46.0    707\n",
      "48.0     38\n",
      "43.0      8\n",
      "Name: weird_addl, dtype: int64\n",
      "\n",
      "42   weird_notice  : \n",
      "F    1294\n",
      "Name: weird_notice, dtype: int64\n",
      "\n",
      "43   label  : \n",
      "0    300000\n",
      "1    161043\n",
      "Name: label, dtype: int64\n",
      "\n",
      "44   type  : \n",
      "normal        300000\n",
      "scanning       20000\n",
      "dos            20000\n",
      "injection      20000\n",
      "ddos           20000\n",
      "password       20000\n",
      "xss            20000\n",
      "ransomware     20000\n",
      "backdoor       20000\n",
      "mitm            1043\n",
      "Name: type, dtype: int64\n",
      "\n"
     ]
    }
   ],
   "source": [
    "colnames = list(df.columns)\n",
    "print(colnames)\n",
    "\n",
    "print()\n",
    "for i in range(len(colnames)):\n",
    "    print(i,' ',colnames[i],' : ')\n",
    "    print(df[colnames[i]].value_counts())\n",
    "    print()"
   ]
  },
  {
   "attachments": {},
   "cell_type": "markdown",
   "metadata": {},
   "source": [
    "## Data preparation\n",
    "\n",
    "Drop ts, query, uri column\n",
    "Drop IPv6\n",
    "Convert IPv4 to 4 number column\n",
    "Simplify http_user_agent\n",
    "\n",
    "Dummy encoding (category feature)\n",
    "\n",
    "Minmax scaling numerical feature"
   ]
  },
  {
   "cell_type": "code",
   "execution_count": 40,
   "metadata": {},
   "outputs": [],
   "source": [
    "drop_cols = ['ts','dns_query','ssl_subject','ssl_issuer','http_uri']\n",
    "df.drop(drop_cols,axis=1,inplace=True)\n",
    "\n",
    "# need process \n",
    "# src_ip    dst_ip      http_user_agent\n",
    "\n",
    "df.drop(df[df['src_ip'].map(lambda x:':' in x )].index,inplace=True)\n",
    "df.drop(df[df['dst_ip'].map(lambda x:':' in x )].index,inplace=True)\n",
    "\n",
    "src_ip_cols = ['src_ip1','src_ip2','src_ip3','src_ip4']\n",
    "dst_ip_cols = ['dst_ip1','dst_ip2','dst_ip3','dst_ip4']\n",
    "\n",
    "df[['src_ip1','src_ip2','src_ip3','src_ip4']] = df['src_ip'].str.split('.',expand=True)\n",
    "df[['dst_ip1','dst_ip2','dst_ip3','dst_ip4']] = df['dst_ip'].str.split('.',expand=True)\n",
    "df['http_user_agent'] = df['http_user_agent'].str.split().str[0]\n",
    "\n",
    "df.drop(['src_ip','dst_ip'],axis=1,inplace=True)\n",
    "\n",
    "# dummy encoding\n",
    "\n",
    "nomial_cols = [  'proto','service','conn_state','dns_qclass','dns_qtype','dns_rcode','dns_AA','dns_RD','dns_RA','dns_rejected',\n",
    "                'ssl_version','ssl_cipher','ssl_resumed','ssl_established','http_trans_depth','http_method','http_status_code',\n",
    "                'http_orig_mime_types','http_resp_mime_types','weird_name','weird_addl','http_version','weird_notice','http_user_agent']\n",
    "\n",
    "for col in nomial_cols:\n",
    "      indicators = pd.get_dummies(df[col], prefix=col, dtype=np.float64)\n",
    "      df = pd.concat([df,indicators],axis=1)\n",
    "\n",
    "df.drop(nomial_cols,axis=1,inplace=True)\n",
    "\n",
    "# Minmax scaling\n",
    "\n",
    "numeric_cols = ['src_port','dst_port','duration','src_bytes','dst_bytes','missed_bytes','src_pkts','src_ip_bytes',\n",
    "                'dst_pkts','dst_ip_bytes','http_request_body_len','http_response_body_len',\n",
    "                'src_ip1','src_ip2','src_ip3','src_ip4','dst_ip1','dst_ip2','dst_ip3','dst_ip4']\n",
    "\n",
    "for col in numeric_cols:\n",
    "      df[col] = pd.to_numeric(df[col], errors='coerce')\n",
    "\n",
    "from sklearn.preprocessing import MinMaxScaler\n",
    "\n",
    "scaler = MinMaxScaler()\n",
    "\n",
    "df[numeric_cols] = scaler.fit_transform(df[numeric_cols])\n",
    "\n",
    "\n"
   ]
  },
  {
   "attachments": {},
   "cell_type": "markdown",
   "metadata": {},
   "source": [
    "# Model selection"
   ]
  },
  {
   "cell_type": "code",
   "execution_count": 48,
   "metadata": {},
   "outputs": [
    {
     "ename": "ImportError",
     "evalue": "cannot import name 'LearningCurveDisplay' from 'sklearn.model_selection' (/Users/boussadaitsalem/opt/miniconda3/envs/myenv/lib/python3.9/site-packages/sklearn/model_selection/__init__.py)",
     "output_type": "error",
     "traceback": [
      "\u001b[0;31m---------------------------------------------------------------------------\u001b[0m",
      "\u001b[0;31mImportError\u001b[0m                               Traceback (most recent call last)",
      "Cell \u001b[0;32mIn[48], line 3\u001b[0m\n\u001b[1;32m      1\u001b[0m \u001b[39mfrom\u001b[39;00m \u001b[39msklearn\u001b[39;00m\u001b[39m.\u001b[39;00m\u001b[39mmodel_selection\u001b[39;00m \u001b[39mimport\u001b[39;00m learning_curve\n\u001b[1;32m      2\u001b[0m \u001b[39mfrom\u001b[39;00m \u001b[39msklearn\u001b[39;00m\u001b[39m.\u001b[39;00m\u001b[39msvm\u001b[39;00m \u001b[39mimport\u001b[39;00m SVC\n\u001b[0;32m----> 3\u001b[0m \u001b[39mfrom\u001b[39;00m \u001b[39msklearn\u001b[39;00m\u001b[39m.\u001b[39;00m\u001b[39mmodel_selection\u001b[39;00m \u001b[39mimport\u001b[39;00m LearningCurveDisplay\n\u001b[1;32m      4\u001b[0m \u001b[39mfrom\u001b[39;00m \u001b[39msklearn\u001b[39;00m\u001b[39m.\u001b[39;00m\u001b[39mutils\u001b[39;00m \u001b[39mimport\u001b[39;00m shuffle\n\u001b[1;32m      6\u001b[0m X \u001b[39m=\u001b[39m df\u001b[39m.\u001b[39mdrop([\u001b[39m'\u001b[39m\u001b[39mlabel\u001b[39m\u001b[39m'\u001b[39m, \u001b[39m'\u001b[39m\u001b[39mtype\u001b[39m\u001b[39m'\u001b[39m], axis\u001b[39m=\u001b[39m\u001b[39m1\u001b[39m)\n",
      "\u001b[0;31mImportError\u001b[0m: cannot import name 'LearningCurveDisplay' from 'sklearn.model_selection' (/Users/boussadaitsalem/opt/miniconda3/envs/myenv/lib/python3.9/site-packages/sklearn/model_selection/__init__.py)"
     ]
    }
   ],
   "source": [
    "from sklearn.model_selection import learning_curve\n",
    "from sklearn.svm import SVC\n",
    "from sklearn.model_selection import LearningCurveDisplay\n",
    "from sklearn.utils import shuffle\n",
    "\n",
    "X = df.drop(['label', 'type'], axis=1)\n",
    "y = df['type']\n",
    "\n",
    "#train_sizes, train_scores, valid_scores = learning_curve(SVC(kernel='linear'), X, y, train_sizes=[50, 80, 110], cv=5)\n",
    "\n",
    "X, y = shuffle(X, y, random_state=0)\n",
    "LearningCurveDisplay.from_estimator(SVC(kernel=\"linear\"), X, y, train_sizes=[50, 80, 110], cv=5)\n"
   ]
  },
  {
   "attachments": {},
   "cell_type": "markdown",
   "metadata": {},
   "source": [
    "## Split dataset to train and test \n",
    "Train   : 80%\n",
    "Test    : 20%"
   ]
  },
  {
   "cell_type": "code",
   "execution_count": 13,
   "metadata": {},
   "outputs": [],
   "source": [
    "from sklearn.model_selection import train_test_split\n",
    "\n",
    "train, test = train_test_split(df, test_size=0.2)\n",
    "\n",
    "train_X = train.drop(['label', 'type'], axis=1)\n",
    "train_Y = train['type']\n",
    "\n",
    "test_X = test.drop(['label', 'type'], axis=1)\n",
    "test_Y = test['type']\n"
   ]
  },
  {
   "attachments": {},
   "cell_type": "markdown",
   "metadata": {},
   "source": [
    "#### Visualise the distribution of dataset"
   ]
  },
  {
   "cell_type": "code",
   "execution_count": 14,
   "metadata": {},
   "outputs": [
    {
     "data": {
      "text/plain": [
       "<AxesSubplot: >"
      ]
     },
     "execution_count": 14,
     "metadata": {},
     "output_type": "execute_result"
    },
    {
     "data": {
      "image/png": "[encoded data removed]",
      "text/plain": [
       "<Figure size 1500x500 with 1 Axes>"
      ]
     },
     "metadata": {},
     "output_type": "display_data"
    }
   ],
   "source": [
    "pd.DataFrame({\n",
    "  'train': train['type'].value_counts(),\n",
    "  'test': test['type'].value_counts()\n",
    "}).plot.bar(figsize=(15, 5), rot=0)"
   ]
  },
  {
   "cell_type": "code",
   "execution_count": 15,
   "metadata": {},
   "outputs": [
    {
     "data": {
      "text/plain": [
       "<AxesSubplot: >"
      ]
     },
     "execution_count": 15,
     "metadata": {},
     "output_type": "execute_result"
    },
    {
     "data": {
      "image/png": "[encoded data removed]",
      "text/plain": [
       "<Figure size 640x480 with 1 Axes>"
      ]
     },
     "metadata": {},
     "output_type": "display_data"
    }
   ],
   "source": [
    "pd.DataFrame({\n",
    "  'train': train['label'].value_counts(),\n",
    "  'test': test['label'].value_counts()},\n",
    "  ).plot.bar(rot=0)"
   ]
  },
  {
   "cell_type": "code",
   "execution_count": 16,
   "metadata": {},
   "outputs": [
    {
     "data": {
      "text/plain": [
       "<AxesSubplot: >"
      ]
     },
     "execution_count": 16,
     "metadata": {},
     "output_type": "execute_result"
    },
    {
     "data": {
      "image/png": "[encoded data removed]",
      "text/plain": [
       "<Figure size 640x480 with 1 Axes>"
      ]
     },
     "metadata": {},
     "output_type": "display_data"
    }
   ],
   "source": [
    "train_Y.value_counts().plot.bar(rot=45)"
   ]
  },
  {
   "attachments": {},
   "cell_type": "markdown",
   "metadata": {},
   "source": [
    "TODO: random forest for feature selection\n",
    "\n",
    "Correlation matrix\n",
    "\n",
    "model selection variance bias tradeoff cross validation\n"
   ]
  },
  {
   "cell_type": "code",
   "execution_count": 17,
   "metadata": {},
   "outputs": [],
   "source": [
    "covariance_matrix = train_X.cov()\n",
    "correlation_matrix = train_X.corr()\n",
    "# high_cov_matrix = (covariance_matrix > 0.9) & (pd.DataFrame(np.identity(len(covariance_matrix)), index=covariance_matrix.index, columns=covariance_matrix.columns) == 0)\n",
    "# covariance_matrix[~high_cov_matrix] = \"\"\n",
    "# covariance_matrix[high_cov_matrix.any()][covariance_matrix.columns[high_cov_matrix.any(axis=1)]]\n"
   ]
  },
  {
   "cell_type": "code",
   "execution_count": 18,
   "metadata": {},
   "outputs": [
    {
     "data": {
      "text/plain": [
       "array(['normal', 'ransomware', 'backdoor', 'injection', 'ddos',\n",
       "       'password', 'xss', 'dos', 'scanning', 'mitm'], dtype=object)"
      ]
     },
     "execution_count": 18,
     "metadata": {},
     "output_type": "execute_result"
    }
   ],
   "source": [
    "labels = train_Y.unique()\n",
    "labels"
   ]
  },
  {
   "attachments": {},
   "cell_type": "markdown",
   "metadata": {},
   "source": [
    "# Try SVM without cross-validation"
   ]
  },
  {
   "cell_type": "code",
   "execution_count": 19,
   "metadata": {},
   "outputs": [
    {
     "data": {
      "text/plain": [
       "0.9441130141821393"
      ]
     },
     "execution_count": 19,
     "metadata": {},
     "output_type": "execute_result"
    }
   ],
   "source": [
    "from sklearn.svm import LinearSVC\n",
    "\n",
    "svm_model = LinearSVC(C=.1, dual=False, max_iter=10000)\n",
    "svm_model.fit(train_X, train_Y)\n",
    "\n",
    "svm_preds = svm_model.predict(train_X)\n",
    "svm_accuracy = metrics.accuracy_score(train_Y, svm_preds)\n",
    "svm_accuracy"
   ]
  },
  {
   "cell_type": "code",
   "execution_count": 20,
   "metadata": {},
   "outputs": [
    {
     "data": {
      "text/plain": [
       "0.943515524648979"
      ]
     },
     "execution_count": 20,
     "metadata": {},
     "output_type": "execute_result"
    }
   ],
   "source": [
    "svm_test_preds = svm_model.predict(test_X)\n",
    "svm_test_accuracy = metrics.accuracy_score(test_Y, svm_test_preds)\n",
    "svm_test_accuracy"
   ]
  },
  {
   "cell_type": "code",
   "execution_count": 21,
   "metadata": {},
   "outputs": [
    {
     "data": {
      "text/plain": [
       "<sklearn.metrics._plot.confusion_matrix.ConfusionMatrixDisplay at 0x1653d44f0>"
      ]
     },
     "execution_count": 21,
     "metadata": {},
     "output_type": "execute_result"
    },
    {
     "data": {
      "image/png": "[encoded data removed]",
      "text/plain": [
       "<Figure size 640x480 with 2 Axes>"
      ]
     },
     "metadata": {},
     "output_type": "display_data"
    }
   ],
   "source": [
    "conf_matrix = metrics.confusion_matrix(test_Y, svm_test_preds, labels=labels)\n",
    "metrics.ConfusionMatrixDisplay(confusion_matrix=conf_matrix, display_labels=labels).plot(xticks_rotation=45)"
   ]
  },
  {
   "attachments": {},
   "cell_type": "markdown",
   "metadata": {},
   "source": [
    "# Classification"
   ]
  },
  {
   "cell_type": "code",
   "execution_count": 22,
   "metadata": {},
   "outputs": [],
   "source": [
    "from mlxtend.evaluate import bias_variance_decomp"
   ]
  },
  {
   "cell_type": "code",
   "execution_count": 31,
   "metadata": {},
   "outputs": [
    {
     "data": {
      "text/html": [
       "<style>#sk-container-id-2 {color: black;background-color: white;}#sk-container-id-2 pre{padding: 0;}#sk-container-id-2 div.sk-toggleable {background-color: white;}#sk-container-id-2 label.sk-toggleable__label {cursor: pointer;display: block;width: 100%;margin-bottom: 0;padding: 0.3em;box-sizing: border-box;text-align: center;}#sk-container-id-2 label.sk-toggleable__label-arrow:before {content: \"▸\";float: left;margin-right: 0.25em;color: #696969;}#sk-container-id-2 label.sk-toggleable__label-arrow:hover:before {color: black;}#sk-container-id-2 div.sk-estimator:hover label.sk-toggleable__label-arrow:before {color: black;}#sk-container-id-2 div.sk-toggleable__content {max-height: 0;max-width: 0;overflow: hidden;text-align: left;background-color: #f0f8ff;}#sk-container-id-2 div.sk-toggleable__content pre {margin: 0.2em;color: black;border-radius: 0.25em;background-color: #f0f8ff;}#sk-container-id-2 input.sk-toggleable__control:checked~div.sk-toggleable__content {max-height: 200px;max-width: 100%;overflow: auto;}#sk-container-id-2 input.sk-toggleable__control:checked~label.sk-toggleable__label-arrow:before {content: \"▾\";}#sk-container-id-2 div.sk-estimator input.sk-toggleable__control:checked~label.sk-toggleable__label {background-color: #d4ebff;}#sk-container-id-2 div.sk-label input.sk-toggleable__control:checked~label.sk-toggleable__label {background-color: #d4ebff;}#sk-container-id-2 input.sk-hidden--visually {border: 0;clip: rect(1px 1px 1px 1px);clip: rect(1px, 1px, 1px, 1px);height: 1px;margin: -1px;overflow: hidden;padding: 0;position: absolute;width: 1px;}#sk-container-id-2 div.sk-estimator {font-family: monospace;background-color: #f0f8ff;border: 1px dotted black;border-radius: 0.25em;box-sizing: border-box;margin-bottom: 0.5em;}#sk-container-id-2 div.sk-estimator:hover {background-color: #d4ebff;}#sk-container-id-2 div.sk-parallel-item::after {content: \"\";width: 100%;border-bottom: 1px solid gray;flex-grow: 1;}#sk-container-id-2 div.sk-label:hover label.sk-toggleable__label {background-color: #d4ebff;}#sk-container-id-2 div.sk-serial::before {content: \"\";position: absolute;border-left: 1px solid gray;box-sizing: border-box;top: 0;bottom: 0;left: 50%;z-index: 0;}#sk-container-id-2 div.sk-serial {display: flex;flex-direction: column;align-items: center;background-color: white;padding-right: 0.2em;padding-left: 0.2em;position: relative;}#sk-container-id-2 div.sk-item {position: relative;z-index: 1;}#sk-container-id-2 div.sk-parallel {display: flex;align-items: stretch;justify-content: center;background-color: white;position: relative;}#sk-container-id-2 div.sk-item::before, #sk-container-id-2 div.sk-parallel-item::before {content: \"\";position: absolute;border-left: 1px solid gray;box-sizing: border-box;top: 0;bottom: 0;left: 50%;z-index: -1;}#sk-container-id-2 div.sk-parallel-item {display: flex;flex-direction: column;z-index: 1;position: relative;background-color: white;}#sk-container-id-2 div.sk-parallel-item:first-child::after {align-self: flex-end;width: 50%;}#sk-container-id-2 div.sk-parallel-item:last-child::after {align-self: flex-start;width: 50%;}#sk-container-id-2 div.sk-parallel-item:only-child::after {width: 0;}#sk-container-id-2 div.sk-dashed-wrapped {border: 1px dashed gray;margin: 0 0.4em 0.5em 0.4em;box-sizing: border-box;padding-bottom: 0.4em;background-color: white;}#sk-container-id-2 div.sk-label label {font-family: monospace;font-weight: bold;display: inline-block;line-height: 1.2em;}#sk-container-id-2 div.sk-label-container {text-align: center;}#sk-container-id-2 div.sk-container {/* jupyter's `normalize.less` sets `[hidden] { display: none; }` but bootstrap.min.css set `[hidden] { display: none !important; }` so we also need the `!important` here to be able to override the default hidden behavior on the sphinx rendered scikit-learn.org. See: https://github.com/scikit-learn/scikit-learn/issues/21755 */display: inline-block !important;position: relative;}#sk-container-id-2 div.sk-text-repr-fallback {display: none;}</style><div id=\"sk-container-id-2\" class=\"sk-top-container\"><div class=\"sk-text-repr-fallback\"><pre>SGDClassifier(loss=&#x27;log_loss&#x27;)</pre><b>In a Jupyter environment, please rerun this cell to show the HTML representation or trust the notebook. <br />On GitHub, the HTML representation is unable to render, please try loading this page with nbviewer.org.</b></div><div class=\"sk-container\" hidden><div class=\"sk-item\"><div class=\"sk-estimator sk-toggleable\"><input class=\"sk-toggleable__control sk-hidden--visually\" id=\"sk-estimator-id-2\" type=\"checkbox\" checked><label for=\"sk-estimator-id-2\" class=\"sk-toggleable__label sk-toggleable__label-arrow\">SGDClassifier</label><div class=\"sk-toggleable__content\"><pre>SGDClassifier(loss=&#x27;log_loss&#x27;)</pre></div></div></div></div></div>"
      ],
      "text/plain": [
       "SGDClassifier(loss='log_loss')"
      ]
     },
     "execution_count": 31,
     "metadata": {},
     "output_type": "execute_result"
    }
   ],
   "source": [
    "from sklearn.linear_model import SGDClassifier\n",
    "sgd_model = SGDClassifier(loss='log_loss')\n",
    "sgd_model.fit(train_X, train_Y)"
   ]
  },
  {
   "cell_type": "code",
   "execution_count": 32,
   "metadata": {},
   "outputs": [
    {
     "data": {
      "text/plain": [
       "0.936511188193639"
      ]
     },
     "execution_count": 32,
     "metadata": {},
     "output_type": "execute_result"
    }
   ],
   "source": [
    "sgd_train_preds = sgd_model.predict(train_X)\n",
    "sgd_train_accuracy = metrics.accuracy_score(train_Y, sgd_train_preds)\n",
    "sgd_train_accuracy"
   ]
  },
  {
   "cell_type": "code",
   "execution_count": 33,
   "metadata": {},
   "outputs": [
    {
     "data": {
      "text/plain": [
       "0.9352881250830491"
      ]
     },
     "execution_count": 33,
     "metadata": {},
     "output_type": "execute_result"
    }
   ],
   "source": [
    "sgd_test_preds = sgd_model.predict(test_X)\n",
    "sgd_test_accuracy = metrics.accuracy_score(test_Y, sgd_test_preds)\n",
    "sgd_test_accuracy"
   ]
  },
  {
   "cell_type": "code",
   "execution_count": 34,
   "metadata": {},
   "outputs": [
    {
     "ename": "ValueError",
     "evalue": "could not convert string to float: 'normal'",
     "output_type": "error",
     "traceback": [
      "\u001b[0;31m---------------------------------------------------------------------------\u001b[0m",
      "\u001b[0;31mValueError\u001b[0m                                Traceback (most recent call last)",
      "Cell \u001b[0;32mIn[34], line 1\u001b[0m\n\u001b[0;32m----> 1\u001b[0m mse, bias, var \u001b[39m=\u001b[39m bias_variance_decomp(sgd_model, train_X\u001b[39m.\u001b[39;49mvalues, train_Y\u001b[39m.\u001b[39;49mvalues, test_X\u001b[39m.\u001b[39;49mvalues, test_Y\u001b[39m.\u001b[39;49mvalues, loss\u001b[39m=\u001b[39;49m\u001b[39m'\u001b[39;49m\u001b[39mmse\u001b[39;49m\u001b[39m'\u001b[39;49m, num_rounds\u001b[39m=\u001b[39;49m\u001b[39m200\u001b[39;49m, random_seed\u001b[39m=\u001b[39;49m\u001b[39m1\u001b[39;49m)\n\u001b[1;32m      2\u001b[0m \u001b[39m# summarize results\u001b[39;00m\n\u001b[1;32m      3\u001b[0m \u001b[39mprint\u001b[39m(\u001b[39m'\u001b[39m\u001b[39mMSE: \u001b[39m\u001b[39m%.3f\u001b[39;00m\u001b[39m'\u001b[39m \u001b[39m%\u001b[39m mse)\n",
      "File \u001b[0;32m~/opt/miniconda3/envs/myenv/lib/python3.9/site-packages/mlxtend/evaluate/bias_variance_decomp.py:132\u001b[0m, in \u001b[0;36mbias_variance_decomp\u001b[0;34m(estimator, X_train, y_train, X_test, y_test, loss, num_rounds, random_seed, **fit_params)\u001b[0m\n\u001b[1;32m    130\u001b[0m     \u001b[39melse\u001b[39;00m:\n\u001b[1;32m    131\u001b[0m         pred \u001b[39m=\u001b[39m estimator\u001b[39m.\u001b[39mfit(X_boot, y_boot, \u001b[39m*\u001b[39m\u001b[39m*\u001b[39mfit_params)\u001b[39m.\u001b[39mpredict(X_test)\n\u001b[0;32m--> 132\u001b[0m     all_pred[i] \u001b[39m=\u001b[39m pred\n\u001b[1;32m    134\u001b[0m \u001b[39mif\u001b[39;00m loss \u001b[39m==\u001b[39m \u001b[39m\"\u001b[39m\u001b[39m0-1_loss\u001b[39m\u001b[39m\"\u001b[39m:\n\u001b[1;32m    135\u001b[0m     main_predictions \u001b[39m=\u001b[39m np\u001b[39m.\u001b[39mapply_along_axis(\n\u001b[1;32m    136\u001b[0m         \u001b[39mlambda\u001b[39;00m x: np\u001b[39m.\u001b[39margmax(np\u001b[39m.\u001b[39mbincount(x)), axis\u001b[39m=\u001b[39m\u001b[39m0\u001b[39m, arr\u001b[39m=\u001b[39mall_pred\n\u001b[1;32m    137\u001b[0m     )\n",
      "\u001b[0;31mValueError\u001b[0m: could not convert string to float: 'normal'"
     ]
    }
   ],
   "source": [
    "mse, bias, var = bias_variance_decomp(sgd_model, train_X.values, train_Y.values, test_X.values, test_Y.values, loss='mse', num_rounds=200, random_seed=1)\n",
    "# summarize results\n",
    "print('MSE: %.3f' % mse)\n",
    "print('Bias: %.3f' % bias)\n",
    "print('Variance: %.3f' % var)"
   ]
  }
 ],
 "metadata": {
  "kernelspec": {
   "display_name": "myenv",
   "language": "python",
   "name": "python3"
  },
  "language_info": {
   "codemirror_mode": {
    "name": "ipython",
    "version": 3
   },
   "file_extension": ".py",
   "mimetype": "text/x-python",
   "name": "python",
   "nbconvert_exporter": "python",
   "pygments_lexer": "ipython3",
   "version": "3.9.13"
  },
  "orig_nbformat": 4,
  "vscode": {
   "interpreter": {
    "hash": "a6f4980c6cc098c6142f0529d4f441de032525f4ccfed874aca98909a5f33139"
   }
  }
 },
 "nbformat": 4,
 "nbformat_minor": 2
}
